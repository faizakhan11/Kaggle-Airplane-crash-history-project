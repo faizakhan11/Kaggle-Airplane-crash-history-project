{
 "cells": [
  {
   "cell_type": "code",
   "execution_count": 1,
   "metadata": {},
   "outputs": [],
   "source": [
    "import numpy as np\n",
    "import pandas as pd\n",
    "import seaborn as sns\n",
    "import matplotlib.pyplot as plt\n",
    "%matplotlib inline\n",
    "import warnings; warnings.simplefilter('ignore')"
   ]
  },
  {
   "cell_type": "code",
   "execution_count": 2,
   "metadata": {},
   "outputs": [],
   "source": [
    "crash = pd.read_csv('Airplane_Crashes_and_Fatalities_Since_1908.csv')"
   ]
  },
  {
   "cell_type": "code",
   "execution_count": 3,
   "metadata": {},
   "outputs": [
    {
     "data": {
      "text/html": [
       "<div>\n",
       "<style scoped>\n",
       "    .dataframe tbody tr th:only-of-type {\n",
       "        vertical-align: middle;\n",
       "    }\n",
       "\n",
       "    .dataframe tbody tr th {\n",
       "        vertical-align: top;\n",
       "    }\n",
       "\n",
       "    .dataframe thead th {\n",
       "        text-align: right;\n",
       "    }\n",
       "</style>\n",
       "<table border=\"1\" class=\"dataframe\">\n",
       "  <thead>\n",
       "    <tr style=\"text-align: right;\">\n",
       "      <th></th>\n",
       "      <th>Date</th>\n",
       "      <th>Time</th>\n",
       "      <th>Location</th>\n",
       "      <th>Operator</th>\n",
       "      <th>Flight #</th>\n",
       "      <th>Route</th>\n",
       "      <th>Type</th>\n",
       "      <th>Registration</th>\n",
       "      <th>cn/In</th>\n",
       "      <th>Aboard</th>\n",
       "      <th>Fatalities</th>\n",
       "      <th>Ground</th>\n",
       "      <th>Summary</th>\n",
       "    </tr>\n",
       "  </thead>\n",
       "  <tbody>\n",
       "    <tr>\n",
       "      <th>0</th>\n",
       "      <td>09/17/1908</td>\n",
       "      <td>17:18</td>\n",
       "      <td>Fort Myer, Virginia</td>\n",
       "      <td>Military - U.S. Army</td>\n",
       "      <td>NaN</td>\n",
       "      <td>Demonstration</td>\n",
       "      <td>Wright Flyer III</td>\n",
       "      <td>NaN</td>\n",
       "      <td>1</td>\n",
       "      <td>2.0</td>\n",
       "      <td>1.0</td>\n",
       "      <td>0.0</td>\n",
       "      <td>During a demonstration flight, a U.S. Army fly...</td>\n",
       "    </tr>\n",
       "    <tr>\n",
       "      <th>1</th>\n",
       "      <td>07/12/1912</td>\n",
       "      <td>06:30</td>\n",
       "      <td>AtlantiCity, New Jersey</td>\n",
       "      <td>Military - U.S. Navy</td>\n",
       "      <td>NaN</td>\n",
       "      <td>Test flight</td>\n",
       "      <td>Dirigible</td>\n",
       "      <td>NaN</td>\n",
       "      <td>NaN</td>\n",
       "      <td>5.0</td>\n",
       "      <td>5.0</td>\n",
       "      <td>0.0</td>\n",
       "      <td>First U.S. dirigible Akron exploded just offsh...</td>\n",
       "    </tr>\n",
       "  </tbody>\n",
       "</table>\n",
       "</div>"
      ],
      "text/plain": [
       "         Date   Time                 Location              Operator Flight #  \\\n",
       "0  09/17/1908  17:18      Fort Myer, Virginia  Military - U.S. Army      NaN   \n",
       "1  07/12/1912  06:30  AtlantiCity, New Jersey  Military - U.S. Navy      NaN   \n",
       "\n",
       "           Route              Type Registration cn/In  Aboard  Fatalities  \\\n",
       "0  Demonstration  Wright Flyer III          NaN     1     2.0         1.0   \n",
       "1    Test flight         Dirigible          NaN   NaN     5.0         5.0   \n",
       "\n",
       "   Ground                                            Summary  \n",
       "0     0.0  During a demonstration flight, a U.S. Army fly...  \n",
       "1     0.0  First U.S. dirigible Akron exploded just offsh...  "
      ]
     },
     "execution_count": 3,
     "metadata": {},
     "output_type": "execute_result"
    }
   ],
   "source": [
    "crash.head(2)"
   ]
  },
  {
   "cell_type": "code",
   "execution_count": null,
   "metadata": {},
   "outputs": [],
   "source": [
    "#Objectives:\n",
    "#Extract data for plane crashes in WWII \n",
    "#Distribution of times during the day when these crashes happened\n",
    "#Highlight deadliest year in air crash history"
   ]
  },
  {
   "cell_type": "code",
   "execution_count": 4,
   "metadata": {},
   "outputs": [],
   "source": [
    "#Create a column for year\n",
    "\n",
    "def yrsplit(mystr):\n",
    "    return mystr.split('/')[2]\n",
    "\n",
    "crash['Year'] = crash['Date'].apply(yrsplit)\n",
    "crash['Year'] = crash['Year'].astype(dtype='int32')\n",
    "crash['Total deaths'] = crash['Aboard'] + crash['Ground']"
   ]
  },
  {
   "cell_type": "code",
   "execution_count": 5,
   "metadata": {},
   "outputs": [],
   "source": [
    "#Extracting plane crash data for years during which WWII happened\n",
    "ww2_crash = crash[(crash['Year']==1939)|(crash['Year']==1940)|(crash['Year']==1941)|(crash['Year']==1942)|(crash['Year']==1943)|(crash['Year']==1944)|(crash['Year']==1945)]"
   ]
  },
  {
   "cell_type": "code",
   "execution_count": 6,
   "metadata": {},
   "outputs": [
    {
     "name": "stdout",
     "output_type": "stream",
     "text": [
      "<class 'pandas.core.frame.DataFrame'>\n",
      "Int64Index: 252 entries, 503 to 754\n",
      "Data columns (total 15 columns):\n",
      "Date            252 non-null object\n",
      "Time            108 non-null object\n",
      "Location        247 non-null object\n",
      "Operator        249 non-null object\n",
      "Flight #        40 non-null object\n",
      "Route           107 non-null object\n",
      "Type            247 non-null object\n",
      "Registration    231 non-null object\n",
      "cn/In           148 non-null object\n",
      "Aboard          244 non-null float64\n",
      "Fatalities      246 non-null float64\n",
      "Ground          244 non-null float64\n",
      "Summary         205 non-null object\n",
      "Year            252 non-null int32\n",
      "Total deaths    242 non-null float64\n",
      "dtypes: float64(4), int32(1), object(10)\n",
      "memory usage: 30.5+ KB\n"
     ]
    }
   ],
   "source": [
    "ww2_crash.info() #Total 252 initial entries for WWII"
   ]
  },
  {
   "cell_type": "markdown",
   "metadata": {},
   "source": [
    "# Crash fatalties in WWII by country (major players)"
   ]
  },
  {
   "cell_type": "code",
   "execution_count": 10,
   "metadata": {},
   "outputs": [],
   "source": [
    "#Omitting crashes whose location is unknown\n",
    "ww2_crash_update0 = ww2_crash.dropna(subset = ['Location'])\n",
    "#247 entries remaining after removing crashes whose location is unknown"
   ]
  },
  {
   "cell_type": "code",
   "execution_count": 11,
   "metadata": {},
   "outputs": [],
   "source": [
    "#Simplifying dataset by putting all plane crashes which occured in different states of USA under 'USA' location\n",
    "\n",
    "def region(mystr):\n",
    "    states = [' New Jersey',' Montana',' Washington',' Oklahoma',' California',' Virginia',' Utah', \n",
    "              ' Illinois', ' Minnesota', ' Florida', ' Nevada',' North Carolina',' Kentucky', ' Texas', ' Tennessee',\n",
    "                ' Alaska','Alaska','Texas','Off the Florida coast',' Nebraska','Washington D.C.', ' South Carolina', ' New York']\n",
    "    last = mystr.split(',')[-1]\n",
    "    if last in states:\n",
    "        return 'USA'\n",
    "    else:\n",
    "        return last\n",
    "\n",
    "ww2_crash_update0['Region'] = ww2_crash_update0['Location'].apply(region)"
   ]
  },
  {
   "cell_type": "code",
   "execution_count": null,
   "metadata": {},
   "outputs": [],
   "source": [
    "#Majority of the fatalities recorded occurred on board: it is plausible to get information about which country each plane\n",
    "#belonged to in order to get the death count for that country. "
   ]
  },
  {
   "cell_type": "code",
   "execution_count": 12,
   "metadata": {},
   "outputs": [
    {
     "data": {
      "text/plain": [
       "USA        170\n",
       "Germany     24\n",
       "England     12\n",
       "France       4\n",
       "Name: Manufacturer, dtype: int64"
      ]
     },
     "execution_count": 12,
     "metadata": {},
     "output_type": "execute_result"
    }
   ],
   "source": [
    "#Extracting first name of manufacturer: 242 entries remaining after removing crashes where plane manufacturer info is unknown\n",
    "ww2_crash_update1 = ww2_crash_update0.dropna(subset = ['Type'])\n",
    "def manu(mystr):\n",
    "    return mystr.split()[0]\n",
    "ww2_crash_update1['Manufacturer'] = ww2_crash_update1['Type'].apply(manu)\n",
    "\n",
    "#Defining a dictionary and applying a map function to map the 'type' of aircraft to the country it belongs to\n",
    "cmap = {'Douglas':'USA', 'Junkers': 'Germany', 'Lockheed':'USA', 'Consolidated':'USA', 'Dewoitine': 'France', 'Sikorsky': 'USA','Short':'England', 'Curtiss-Wright': 'USA', 'Boeing':'USA', 'Focke-Wulf': 'Germany', 'Martin':'USA'}\n",
    "\n",
    "ww2_crash_update1['Manufacturer'] = ww2_crash_update1['Manufacturer'].map(cmap)\n",
    "ww2_crash_update1['Manufacturer'].value_counts() #Categorizing 210/252 plane crashes in WWII"
   ]
  },
  {
   "cell_type": "markdown",
   "metadata": {},
   "source": [
    "# Loss of lives suffered by major players: home country vs outside of home country losses"
   ]
  },
  {
   "cell_type": "code",
   "execution_count": 13,
   "metadata": {},
   "outputs": [],
   "source": [
    "ww2_crash_USA = ww2_crash_update1[ww2_crash_update1['Manufacturer'] == 'USA']\n",
    "\n",
    "ww2_crash_USA_hm = ww2_crash_USA[ww2_crash_USA['Region'] == ww2_crash_USA['Manufacturer']]\n",
    "#USA suffered 700 loss of lives due to 38 plane crashes in home country in WWII\n",
    "\n",
    "ww2_crash_USA_nonhm = ww2_crash_USA[ww2_crash_USA['Region'] != ww2_crash_USA['Manufacturer']]\n",
    "#USA suffered 2237 loss of lives due to 132 plane crashes out of home country in WWII\n",
    "\n",
    "ww2_crash_England = ww2_crash_update1[ww2_crash_update1['Manufacturer'] == 'England']\n",
    "#England suffered 0 loss of lives due to plane crashes in home country in WWII\n",
    "\n",
    "ww2_crash_England_nonhm = ww2_crash_England[ww2_crash_England['Region'] != ww2_crash_England['Manufacturer']]\n",
    "#England suffered 221 loss of lives due to plane crashes out of home country in WWII\n",
    "\n",
    "ww2_crash_France = ww2_crash_update1[ww2_crash_update1['Manufacturer'] == ' France']\n",
    "new_manufacturer = ' France'\n",
    "ww2_crash_France_nonhm = ww2_crash_France[ww2_crash_France['Region'] != 'France']\n",
    "#France suffered 1 loss of life due to plane crashes in own territory\n",
    "#France suffered 34 loss of lives due to plane crashes out of own territory\n",
    "\n",
    "ww2_crash_Germany = ww2_crash_update1[ww2_crash_update1['Manufacturer'] == 'Germany']\n",
    "new_manufacturer = ' Germany'\n",
    "ww2_crash_Germany_hm = ww2_crash_Germany[ww2_crash_Germany['Region'] == new_manufacturer]\n",
    "#Germany suffered 57 loss of lives due to plane crashes in own territory\n",
    "ww2_crash_Germany_nonhm = ww2_crash_Germany[ww2_crash_Germany['Region'] != new_manufacturer]\n",
    "#Germany suffered 206 loss of lives due to plane crashes out of own territory"
   ]
  },
  {
   "cell_type": "code",
   "execution_count": 14,
   "metadata": {},
   "outputs": [
    {
     "data": {
      "text/html": [
       "<div>\n",
       "<style scoped>\n",
       "    .dataframe tbody tr th:only-of-type {\n",
       "        vertical-align: middle;\n",
       "    }\n",
       "\n",
       "    .dataframe tbody tr th {\n",
       "        vertical-align: top;\n",
       "    }\n",
       "\n",
       "    .dataframe thead th {\n",
       "        text-align: right;\n",
       "    }\n",
       "</style>\n",
       "<table border=\"1\" class=\"dataframe\">\n",
       "  <thead>\n",
       "    <tr style=\"text-align: right;\">\n",
       "      <th></th>\n",
       "      <th>plane crashes</th>\n",
       "      <th>death count</th>\n",
       "    </tr>\n",
       "  </thead>\n",
       "  <tbody>\n",
       "    <tr>\n",
       "      <th>USA</th>\n",
       "      <td>170</td>\n",
       "      <td>3064</td>\n",
       "    </tr>\n",
       "    <tr>\n",
       "      <th>Germany</th>\n",
       "      <td>24</td>\n",
       "      <td>263</td>\n",
       "    </tr>\n",
       "    <tr>\n",
       "      <th>England</th>\n",
       "      <td>12</td>\n",
       "      <td>221</td>\n",
       "    </tr>\n",
       "    <tr>\n",
       "      <th>France</th>\n",
       "      <td>4</td>\n",
       "      <td>35</td>\n",
       "    </tr>\n",
       "  </tbody>\n",
       "</table>\n",
       "</div>"
      ],
      "text/plain": [
       "         plane crashes  death count\n",
       "USA                170         3064\n",
       "Germany             24          263\n",
       "England             12          221\n",
       "France               4           35"
      ]
     },
     "execution_count": 14,
     "metadata": {},
     "output_type": "execute_result"
    }
   ],
   "source": [
    "#Combining number of plane crashes + death count for major players in a dataframe\n",
    "df = pd.DataFrame({'plane crashes': [170,24,12,4], 'death count': [3064,263,221,35]}, index=['USA','Germany','England','France'])\n",
    "df"
   ]
  },
  {
   "cell_type": "markdown",
   "metadata": {},
   "source": [
    "# Time distribution of crashes during WWII (based on 40% of entries)"
   ]
  },
  {
   "cell_type": "code",
   "execution_count": 16,
   "metadata": {},
   "outputs": [
    {
     "data": {
      "text/plain": [
       "<matplotlib.axes._subplots.AxesSubplot at 0x1398bae6208>"
      ]
     },
     "execution_count": 16,
     "metadata": {},
     "output_type": "execute_result"
    },
    {
     "data": {
      "image/png": "[encoded data removed]",
      "text/plain": [
       "<Figure size 432x288 with 1 Axes>"
      ]
     },
     "metadata": {},
     "output_type": "display_data"
    }
   ],
   "source": [
    "ww2_crash_time = ww2_crash.dropna(subset = ['Time'])\n",
    "def thehour(mystr):\n",
    "    nums = mystr.split(':')\n",
    "    if int(nums[1]) > 30:\n",
    "        return int(nums[0]) + 1\n",
    "    else:\n",
    "        return int(nums[0])\n",
    "\n",
    "ww2_crash_time['Hour'] = ww2_crash_time['Time'].apply(thehour)\n",
    "\n",
    "sns.distplot(ww2_crash_time['Hour'],kde=False,bins=24)"
   ]
  },
  {
   "cell_type": "code",
   "execution_count": 17,
   "metadata": {},
   "outputs": [
    {
     "data": {
      "text/plain": [
       "<matplotlib.axes._subplots.AxesSubplot at 0x1398cba6320>"
      ]
     },
     "execution_count": 17,
     "metadata": {},
     "output_type": "execute_result"
    },
    {
     "data": {
      "image/png": "[encoded data removed]",
      "text/plain": [
       "<Figure size 432x288 with 1 Axes>"
      ]
     },
     "metadata": {},
     "output_type": "display_data"
    }
   ],
   "source": [
    "ww2_crash_time = ww2_crash.dropna(subset = ['Time'])\n",
    "def myhour(mystr):\n",
    "    nums = mystr.split(':')\n",
    "    if int(nums[1]) > 30:\n",
    "        mynum = int(nums[0]) + 1\n",
    "    else:\n",
    "        mynum = int(nums[0])\n",
    "        \n",
    "    if mynum in [22,23,24,0,1,2,3,4]:\n",
    "        return 'night'\n",
    "    elif mynum in [5,6,7,8,9,10,11,12]:\n",
    "        return 'morning'\n",
    "    elif mynum in [13,14,15,16,17]:\n",
    "        return 'afternoon'\n",
    "    else:\n",
    "        return 'evening'\n",
    "    \n",
    "ww2_crash_time['Time_of_day'] = ww2_crash_time['Time'].apply(myhour)\n",
    "\n",
    "sns.countplot(x = 'Time_of_day', data = ww2_crash_time)"
   ]
  },
  {
   "cell_type": "code",
   "execution_count": 18,
   "metadata": {},
   "outputs": [
    {
     "data": {
      "text/plain": [
       "<matplotlib.axes._subplots.AxesSubplot at 0x1398cc14a90>"
      ]
     },
     "execution_count": 18,
     "metadata": {},
     "output_type": "execute_result"
    },
    {
     "data": {
      "image/png": "[encoded data removed]",
      "text/plain": [
       "<Figure size 432x288 with 1 Axes>"
      ]
     },
     "metadata": {},
     "output_type": "display_data"
    }
   ],
   "source": [
    "#Finding deadliest year in crash history (amounting to biggest number of deaths)\n",
    "crash_copy = crash.iloc[1:]\n",
    "byYear_deaths = crash_copy.groupby('Year').sum()\n",
    "byYear_deaths.reset_index(inplace = True)\n",
    "byYear_deaths = byYear_deaths.iloc[1:]\n",
    "byYear_deaths\n",
    "def decade(myyear):\n",
    "    if myyear >= 1910 and myyear < 1920:\n",
    "        return 1910\n",
    "    elif myyear >= 1920 and myyear < 1930:\n",
    "        return 1920\n",
    "    elif myyear >= 1930 and myyear < 1940:\n",
    "        return 1930\n",
    "    elif myyear >= 1940 and myyear < 1950:\n",
    "        return 1940\n",
    "    elif myyear >= 1950 and myyear < 1960:\n",
    "        return 1950\n",
    "    elif myyear >= 1960 and myyear < 1970:\n",
    "        return 1960\n",
    "    elif myyear >= 1970 and myyear < 1980:\n",
    "        return 1970\n",
    "    elif myyear >= 1980 and myyear < 1990:\n",
    "        return 1980\n",
    "    elif myyear >= 1990 and myyear < 2000:\n",
    "        return 1990\n",
    "    else:\n",
    "        return 2000\n",
    "    \n",
    "byYear_deaths['Decade'] = byYear_deaths['Year'].apply(decade)\n",
    "byDecade_deaths = byYear_deaths.groupby('Decade').sum()\n",
    "byDecade_deaths = byDecade_deaths.reset_index()\n",
    "#byDecade_deaths['Total deaths'].sum() #Total deaths in plane crashes in last 100 years is roughly 150,000\n",
    "\n",
    "sns.barplot(x = 'Decade', y = 'Total deaths', data = byDecade_deaths)"
   ]
  },
  {
   "cell_type": "code",
   "execution_count": null,
   "metadata": {},
   "outputs": [],
   "source": [
    "#Years 1970-1979 have been the deadliest in plane crash history. However, despite technological advancements\n",
    "#the death toll hasn't dropped significantly since then resulting in 20000 lives lost in plane crashes during 2000s."
   ]
  }
 ],
 "metadata": {
  "kernelspec": {
   "display_name": "Python 3",
   "language": "python",
   "name": "python3"
  },
  "language_info": {
   "codemirror_mode": {
    "name": "ipython",
    "version": 3
   },
   "file_extension": ".py",
   "mimetype": "text/x-python",
   "name": "python",
   "nbconvert_exporter": "python",
   "pygments_lexer": "ipython3",
   "version": "3.6.5"
  }
 },
 "nbformat": 4,
 "nbformat_minor": 2
}
